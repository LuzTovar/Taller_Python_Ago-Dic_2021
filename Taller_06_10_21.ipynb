{
 "cells": [
  {
   "cell_type": "markdown",
   "id": "a924e4ac-4197-4f66-a287-d79cf8daecaa",
   "metadata": {},
   "source": [
    "# Instituto Tecnológico Superior de San Luis Potosí, Capital."
   ]
  },
  {
   "cell_type": "markdown",
   "id": "742ef840-129e-4fa1-8ae6-f54391ffed84",
   "metadata": {},
   "source": [
    "# imagen"
   ]
  },
  {
   "cell_type": "markdown",
   "id": "2defd6a8-e355-4085-bfed-411b9bd080b5",
   "metadata": {},
   "source": [
    "## Taller de Git, GitHub, MarkDown y Python¶\n",
    "## ITSSLPC-ISC\n",
    "#### Actividades complementarias"
   ]
  },
  {
   "cell_type": "code",
   "execution_count": 1,
   "id": "05f7d4b1-6b16-48f6-9390-f54d11a0592e",
   "metadata": {},
   "outputs": [
    {
     "name": "stdout",
     "output_type": "stream",
     "text": [
      "10\n"
     ]
    }
   ],
   "source": [
    "# comentarios\n",
    "print(5+5)"
   ]
  },
  {
   "cell_type": "markdown",
   "id": "415e7448-533e-4d44-ae4c-4dac709242ad",
   "metadata": {},
   "source": [
    "# esta celda es MarkDown de tamaño 1"
   ]
  },
  {
   "cell_type": "markdown",
   "id": "204505b5-ab8a-4d6c-84ed-6b1a20c0fb03",
   "metadata": {},
   "source": [
    "## esta celda es MarkDown de tamaño 2"
   ]
  },
  {
   "cell_type": "markdown",
   "id": "cf5c65a1-482e-4242-bcd9-6a16d7d99285",
   "metadata": {},
   "source": [
    "### esta celda es MarkDown de tamaño 3"
   ]
  },
  {
   "cell_type": "markdown",
   "id": "436c9486-e0a4-46ec-ae82-31865d58de57",
   "metadata": {},
   "source": [
    "#### esta celda es MarkDown de tamaño 4"
   ]
  },
  {
   "cell_type": "markdown",
   "id": "dc32076b-5e3f-49f2-8570-14a74f4f34ec",
   "metadata": {},
   "source": [
    "##### esta celda es MarkDown de tamaño 5"
   ]
  },
  {
   "cell_type": "markdown",
   "id": "74aef6df-c153-4e1e-823f-602e2033d47d",
   "metadata": {},
   "source": [
    "## >es un apartado"
   ]
  },
  {
   "cell_type": "markdown",
   "id": "322f7222-15b4-4730-8a6a-67ace995039a",
   "metadata": {},
   "source": [
    "### Booleanos"
   ]
  },
  {
   "cell_type": "markdown",
   "id": "51216f6c-50e0-46ab-897d-d4eb5c4f6378",
   "metadata": {},
   "source": [
    "#### operadores de lógica booleana"
   ]
  },
  {
   "cell_type": "code",
   "execution_count": 2,
   "id": "21666cb1-a669-4a9e-a0b5-8408926bc27f",
   "metadata": {},
   "outputs": [
    {
     "name": "stdout",
     "output_type": "stream",
     "text": [
      "Valores de v1 y v2: \n",
      "True\n",
      "False\n",
      "Valores de v1 y v2:  True False\n",
      "El valor de v1 es:  True , El valor de v2 es:  False\n",
      "Valores con AND \n",
      "False\n",
      "Operador AND, El valor de v1 es:  True El valor de v2 es: False v1 and v2 es:  False\n",
      "Operador OR,  El valor de v1 es:  True El valor de v2 es: False v1 or v2 es:  True\n",
      "Operador de negación False\n",
      "Operador de negación. Valor de v1 es:  True El valor negado de v1 es:  False\n",
      "Operador de negación. Valor de v2 es:  False El valor negado de v2 es:  True\n",
      "False\n",
      "True\n"
     ]
    }
   ],
   "source": [
    "v1 = True\n",
    "v2 = False\n",
    "print(\"Valores de v1 y v2: \")\n",
    "print(v1)\n",
    "print(v2)\n",
    "print(\"Valores de v1 y v2: \", v1, v2)\n",
    "\n",
    "# Vamos a imprimir un mensaje como este: \"El valor de v1 es: True, El valor de v2 es: False\"\n",
    "print(\"El valor de v1 es: \", v1, \",\",\"El valor de v2 es: \",v2)\n",
    "print(\"Valores con AND \")\n",
    "print(v1 and v2)\n",
    "print(\"Operador AND, El valor de v1 es: \",v1, \"El valor de v2 es:\", v2, \"v1 and v2 es: \", v1 and v2)\n",
    "print(\"Operador OR,  El valor de v1 es: \",v1, \"El valor de v2 es:\", v2, \"v1 or v2 es: \", v1 or v2)\n",
    "print(\"Operador de negación\", not v1)\n",
    "print(\"Operador de negación. Valor de v1 es: \", v1, \"El valor negado de v1 es: \", not v1)\n",
    "print(\"Operador de negación. Valor de v2 es: \", v2, \"El valor negado de v2 es: \", not v2)\n",
    "print(v1 and v1 and v2)\n",
    "print(v1 and v1 or v2)"
   ]
  },
  {
   "cell_type": "code",
   "execution_count": 3,
   "id": "9cb34c05-9639-41a7-8e84-e0cbe564705d",
   "metadata": {},
   "outputs": [
    {
     "name": "stdout",
     "output_type": "stream",
     "text": [
      "False\n"
     ]
    }
   ],
   "source": [
    "# para checar si dos valores son iguales\n",
    "print(3 == 5)"
   ]
  },
  {
   "cell_type": "code",
   "execution_count": 4,
   "id": "1018400d-1bdd-4947-bad1-8f6e07960c40",
   "metadata": {},
   "outputs": [
    {
     "name": "stdout",
     "output_type": "stream",
     "text": [
      "True\n"
     ]
    }
   ],
   "source": [
    "# operador para checar si son iguales\n",
    "print(3 == 3)"
   ]
  },
  {
   "cell_type": "code",
   "execution_count": 5,
   "id": "9d62e186-bf74-4daf-8dc1-e2f462244b46",
   "metadata": {},
   "outputs": [
    {
     "name": "stdout",
     "output_type": "stream",
     "text": [
      "True\n"
     ]
    }
   ],
   "source": [
    "# operador para checar si son diferentes\n",
    "print(3 != 5)"
   ]
  },
  {
   "cell_type": "code",
   "execution_count": null,
   "id": "f1b29b6e-e5b3-4a07-94a2-bb0c2a973cc0",
   "metadata": {},
   "outputs": [],
   "source": [
    "# operador menor que\n",
    "print(3 < 5)"
   ]
  }
 ],
 "metadata": {
  "kernelspec": {
   "display_name": "Python 3",
   "language": "python",
   "name": "python3"
  },
  "language_info": {
   "codemirror_mode": {
    "name": "ipython",
    "version": 3
   },
   "file_extension": ".py",
   "mimetype": "text/x-python",
   "name": "python",
   "nbconvert_exporter": "python",
   "pygments_lexer": "ipython3",
   "version": "3.7.8"
  }
 },
 "nbformat": 4,
 "nbformat_minor": 5
}
